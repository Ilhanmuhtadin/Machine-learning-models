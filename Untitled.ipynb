{
 "cells": [
  {
   "cell_type": "code",
   "execution_count": 9,
   "id": "5a28bb63",
   "metadata": {},
   "outputs": [],
   "source": [
    "# import libraries\n",
    "import matplotlib.pyplot as plt\n",
    "import numpy as np\n",
    "import scipy.stats as stats\n",
    "\n",
    "\n",
    "\n",
    "import seaborn as sns\n",
    "import pandas as pd\n",
    "\n",
    "from sklearn.pipeline import Pipeline\n",
    "from sklearn.compose import ColumnTransformer\n",
    "from sklearn.preprocessing import StandardScaler, OneHotEncoder\n",
    "from sklearn.tree import DecisionTreeClassifier\n",
    "from sklearn.model_selection import GridSearchCV\n",
    "from sklearn.compose import make_column_selector as selector\n",
    "from sklearn.model_selection import train_test_split\n",
    "from sklearn.metrics import confusion_matrix,classification_report,plot_confusion_matrix\n"
   ]
  },
  {
   "cell_type": "code",
   "execution_count": 6,
   "id": "22c829a3",
   "metadata": {},
   "outputs": [
    {
     "data": {
      "text/html": [
       "<div>\n",
       "<style scoped>\n",
       "    .dataframe tbody tr th:only-of-type {\n",
       "        vertical-align: middle;\n",
       "    }\n",
       "\n",
       "    .dataframe tbody tr th {\n",
       "        vertical-align: top;\n",
       "    }\n",
       "\n",
       "    .dataframe thead th {\n",
       "        text-align: right;\n",
       "    }\n",
       "</style>\n",
       "<table border=\"1\" class=\"dataframe\">\n",
       "  <thead>\n",
       "    <tr style=\"text-align: right;\">\n",
       "      <th></th>\n",
       "      <th>species</th>\n",
       "      <th>island</th>\n",
       "      <th>culmen_length_mm</th>\n",
       "      <th>culmen_depth_mm</th>\n",
       "      <th>flipper_length_mm</th>\n",
       "      <th>body_mass_g</th>\n",
       "      <th>sex</th>\n",
       "    </tr>\n",
       "  </thead>\n",
       "  <tbody>\n",
       "    <tr>\n",
       "      <th>0</th>\n",
       "      <td>Adelie</td>\n",
       "      <td>Torgersen</td>\n",
       "      <td>39.1</td>\n",
       "      <td>18.7</td>\n",
       "      <td>181.0</td>\n",
       "      <td>3750.0</td>\n",
       "      <td>MALE</td>\n",
       "    </tr>\n",
       "    <tr>\n",
       "      <th>1</th>\n",
       "      <td>Adelie</td>\n",
       "      <td>Torgersen</td>\n",
       "      <td>39.5</td>\n",
       "      <td>17.4</td>\n",
       "      <td>186.0</td>\n",
       "      <td>3800.0</td>\n",
       "      <td>FEMALE</td>\n",
       "    </tr>\n",
       "    <tr>\n",
       "      <th>2</th>\n",
       "      <td>Adelie</td>\n",
       "      <td>Torgersen</td>\n",
       "      <td>40.3</td>\n",
       "      <td>18.0</td>\n",
       "      <td>195.0</td>\n",
       "      <td>3250.0</td>\n",
       "      <td>FEMALE</td>\n",
       "    </tr>\n",
       "    <tr>\n",
       "      <th>3</th>\n",
       "      <td>Adelie</td>\n",
       "      <td>Torgersen</td>\n",
       "      <td>NaN</td>\n",
       "      <td>NaN</td>\n",
       "      <td>NaN</td>\n",
       "      <td>NaN</td>\n",
       "      <td>NaN</td>\n",
       "    </tr>\n",
       "    <tr>\n",
       "      <th>4</th>\n",
       "      <td>Adelie</td>\n",
       "      <td>Torgersen</td>\n",
       "      <td>36.7</td>\n",
       "      <td>19.3</td>\n",
       "      <td>193.0</td>\n",
       "      <td>3450.0</td>\n",
       "      <td>FEMALE</td>\n",
       "    </tr>\n",
       "  </tbody>\n",
       "</table>\n",
       "</div>"
      ],
      "text/plain": [
       "  species     island  culmen_length_mm  culmen_depth_mm  flipper_length_mm  \\\n",
       "0  Adelie  Torgersen              39.1             18.7              181.0   \n",
       "1  Adelie  Torgersen              39.5             17.4              186.0   \n",
       "2  Adelie  Torgersen              40.3             18.0              195.0   \n",
       "3  Adelie  Torgersen               NaN              NaN                NaN   \n",
       "4  Adelie  Torgersen              36.7             19.3              193.0   \n",
       "\n",
       "   body_mass_g     sex  \n",
       "0       3750.0    MALE  \n",
       "1       3800.0  FEMALE  \n",
       "2       3250.0  FEMALE  \n",
       "3          NaN     NaN  \n",
       "4       3450.0  FEMALE  "
      ]
     },
     "execution_count": 6,
     "metadata": {},
     "output_type": "execute_result"
    }
   ],
   "source": [
    "df = pd.read_csv(\"penguins_size.csv\")\n",
    "df.head()"
   ]
  },
  {
   "cell_type": "code",
   "execution_count": 12,
   "id": "df41ceee",
   "metadata": {},
   "outputs": [
    {
     "data": {
      "text/plain": [
       "species               0\n",
       "island                0\n",
       "culmen_length_mm      2\n",
       "culmen_depth_mm       2\n",
       "flipper_length_mm     2\n",
       "body_mass_g           2\n",
       "sex                  10\n",
       "dtype: int64"
      ]
     },
     "execution_count": 12,
     "metadata": {},
     "output_type": "execute_result"
    }
   ],
   "source": [
    "df.isnull().sum()"
   ]
  },
  {
   "cell_type": "code",
   "execution_count": 15,
   "id": "adc3fd6c",
   "metadata": {},
   "outputs": [],
   "source": [
    "df=df.dropna()"
   ]
  },
  {
   "cell_type": "code",
   "execution_count": 16,
   "id": "9e12d68c",
   "metadata": {},
   "outputs": [
    {
     "data": {
      "text/plain": [
       "species              0\n",
       "island               0\n",
       "culmen_length_mm     0\n",
       "culmen_depth_mm      0\n",
       "flipper_length_mm    0\n",
       "body_mass_g          0\n",
       "sex                  0\n",
       "dtype: int64"
      ]
     },
     "execution_count": 16,
     "metadata": {},
     "output_type": "execute_result"
    }
   ],
   "source": [
    "df.isnull().sum()"
   ]
  },
  {
   "cell_type": "code",
   "execution_count": 20,
   "id": "b03bb739",
   "metadata": {},
   "outputs": [
    {
     "data": {
      "text/plain": [
       "array(['MALE', 'FEMALE', '.'], dtype=object)"
      ]
     },
     "execution_count": 20,
     "metadata": {},
     "output_type": "execute_result"
    }
   ],
   "source": [
    "df['sex'].unique()"
   ]
  },
  {
   "cell_type": "code",
   "execution_count": 21,
   "id": "a9560a28",
   "metadata": {},
   "outputs": [
    {
     "data": {
      "text/plain": [
       "array(['Torgersen', 'Biscoe', 'Dream'], dtype=object)"
      ]
     },
     "execution_count": 21,
     "metadata": {},
     "output_type": "execute_result"
    }
   ],
   "source": [
    "df['island'].unique()"
   ]
  },
  {
   "cell_type": "code",
   "execution_count": 22,
   "id": "50384af3",
   "metadata": {},
   "outputs": [],
   "source": [
    "df = df[df['sex']!='.']"
   ]
  },
  {
   "cell_type": "code",
   "execution_count": 47,
   "id": "f734a528",
   "metadata": {},
   "outputs": [],
   "source": [
    "X_train, X_test, y_train, y_test = train_test_split(X, y, test_size=0.15, random_state=101)\n"
   ]
  },
  {
   "cell_type": "markdown",
   "id": "4f737a7b",
   "metadata": {},
   "source": [
    "# START TRAINING DATA"
   ]
  },
  {
   "cell_type": "code",
   "execution_count": null,
   "id": "09f58758",
   "metadata": {},
   "outputs": [],
   "source": []
  },
  {
   "cell_type": "markdown",
   "id": "1f1bc7cd",
   "metadata": {},
   "source": [
    "## DecisionTreeClassifier (grid search)"
   ]
  },
  {
   "cell_type": "code",
   "execution_count": 58,
   "id": "0cb4b5f4",
   "metadata": {},
   "outputs": [
    {
     "name": "stdout",
     "output_type": "stream",
     "text": [
      "\n",
      "Best parameters found:  {'criterion': 'gini', 'max_depth': 5, 'max_leaf_nodes': 9, 'random_state': 101, 'splitter': 'random'}\n",
      "\n",
      "Best score found:  0.9823934837092733\n",
      "\n",
      "              precision    recall  f1-score   support\n",
      "\n",
      "      Adelie       0.96      0.96      0.96        24\n",
      "   Chinstrap       0.92      0.92      0.92        12\n",
      "      Gentoo       1.00      1.00      1.00        14\n",
      "\n",
      "    accuracy                           0.96        50\n",
      "   macro avg       0.96      0.96      0.96        50\n",
      "weighted avg       0.96      0.96      0.96        50\n",
      "\n"
     ]
    }
   ],
   "source": [
    "\n",
    "param_grid = {\n",
    "    'criterion': ['gini', 'entropy'],\n",
    "    'splitter': ['best', 'random'],\n",
    "    'max_depth':[3, 4, 5, 6],\n",
    "    'max_leaf_nodes':[3, 4, 5, 6, 7, 8, 9, 10, 11, 12, 13],\n",
    "    'random_state': [101]\n",
    "}\n",
    "\n",
    "X_dum=pd.get_dummies(X,drop_first=True)\n",
    "X_train_dump, X_test_dump, y_train_dump, y_test_dump = train_test_split(X_dum, y, test_size=0.15, random_state=101)\n",
    "\n",
    "\n",
    "dt_classifier = DecisionTreeClassifier()\n",
    "\n",
    "\n",
    "grid_search_ONLY = GridSearchCV(dt_classifier, param_grid=param_grid, cv=5)\n",
    "\n",
    "\n",
    "grid_search_ONLY.fit(X_train_dump, y_train_dump)\n",
    "\n",
    "# Print best parameters and best score\n",
    "print(\"\\nBest parameters found: \", grid_search_ONLY.best_params_)\n",
    "print(\"\\nBest score found: \", grid_search_ONLY.best_score_)\n",
    "\n",
    "Ypred=grid_search_ONLY.predict(X_test_dump)\n",
    "print()\n",
    "print(classification_report(y_test_dump,Ypred))"
   ]
  },
  {
   "cell_type": "code",
   "execution_count": 59,
   "id": "69b8d916",
   "metadata": {},
   "outputs": [
    {
     "data": {
      "text/plain": [
       "GridSearchCV(cv=5, estimator=DecisionTreeClassifier(),\n",
       "             param_grid={'criterion': ['gini', 'entropy'],\n",
       "                         'max_depth': [3, 4, 5, 6],\n",
       "                         'max_leaf_nodes': [3, 4, 5, 6, 7, 8, 9, 10, 11, 12,\n",
       "                                            13],\n",
       "                         'random_state': [101],\n",
       "                         'splitter': ['best', 'random']})"
      ]
     },
     "execution_count": 59,
     "metadata": {},
     "output_type": "execute_result"
    }
   ],
   "source": [
    "grid_search_ONLY"
   ]
  },
  {
   "cell_type": "code",
   "execution_count": null,
   "id": "21992d57",
   "metadata": {},
   "outputs": [],
   "source": []
  },
  {
   "cell_type": "code",
   "execution_count": null,
   "id": "36139f75",
   "metadata": {},
   "outputs": [],
   "source": []
  },
  {
   "cell_type": "markdown",
   "id": "845921f2",
   "metadata": {},
   "source": [
    "## DecisionTreeClassifier (Pipeline and grid search)"
   ]
  },
  {
   "cell_type": "code",
   "execution_count": 51,
   "id": "a545aeed",
   "metadata": {},
   "outputs": [
    {
     "name": "stdout",
     "output_type": "stream",
     "text": [
      "\n",
      "Best parameters found:  {'decisiontreeclassifier__criterion': 'entropy', 'decisiontreeclassifier__max_depth': 6, 'decisiontreeclassifier__max_leaf_nodes': 13, 'decisiontreeclassifier__random_state': 101, 'decisiontreeclassifier__splitter': 'random'}\n",
      "\n",
      "Best score found:  0.9859022556390977\n",
      "\n",
      "              precision    recall  f1-score   support\n",
      "\n",
      "      Adelie       0.96      0.96      0.96        24\n",
      "   Chinstrap       0.92      1.00      0.96        12\n",
      "      Gentoo       1.00      0.93      0.96        14\n",
      "\n",
      "    accuracy                           0.96        50\n",
      "   macro avg       0.96      0.96      0.96        50\n",
      "weighted avg       0.96      0.96      0.96        50\n",
      "\n"
     ]
    }
   ],
   "source": [
    "\n",
    "# Define the pipeline steps for preprocessing\n",
    "numeric_features = df.select_dtypes(include=['float64']).columns\n",
    "categorical_features = df.select_dtypes(include=['object']).columns\n",
    "\n",
    "numeric_transformer = Pipeline(steps=[\n",
    "    ('scaler', StandardScaler())])\n",
    "\n",
    "categorical_transformer = Pipeline(steps=[\n",
    "    ('onehot', OneHotEncoder(drop='if_binary', handle_unknown='error'))])\n",
    "\n",
    "preprocessor = ColumnTransformer(\n",
    "    transformers=[\n",
    "        ('num', numeric_transformer, selector(dtype_include='float64')),\n",
    "        ('cat', categorical_transformer, selector(dtype_include='object'))])\n",
    "\n",
    "# Define parameters grid\n",
    "param_grid = {\n",
    "    'decisiontreeclassifier__criterion': ['gini', 'entropy'],\n",
    "    'decisiontreeclassifier__splitter': ['best', 'random'],\n",
    "    'decisiontreeclassifier__max_depth':[3,4,5,6],\n",
    "    'decisiontreeclassifier__max_leaf_nodes':[3,4,5,6,7,8,9,10,11,12,13],\n",
    "    'decisiontreeclassifier__random_state': [101],\n",
    "\n",
    "}\n",
    "\n",
    "# Combine preprocessor and model in a pipeline\n",
    "pipeline = Pipeline(steps=[('preprocessor', preprocessor),\n",
    "                           ('decisiontreeclassifier', DecisionTreeClassifier())])\n",
    "# GridSearchCV\n",
    "grid_search = GridSearchCV(pipeline, param_grid=param_grid, cv=5)\n",
    "\n",
    "# Fit the model\n",
    "grid_search.fit(X_train, y_train)\n",
    "\n",
    "# Print best parameters and best score\n",
    "print(\"\\nBest parameters found: \", grid_search.best_params_)\n",
    "print(\"\\nBest score found: \", grid_search.best_score_)\n",
    "\n",
    "\n",
    "Ypred=grid_search.predict(X_test)\n",
    "print()\n",
    "print(classification_report(y_test,Ypred))"
   ]
  },
  {
   "cell_type": "code",
   "execution_count": 56,
   "id": "dedde938",
   "metadata": {},
   "outputs": [
    {
     "data": {
      "text/plain": [
       "GridSearchCV(cv=5,\n",
       "             estimator=Pipeline(steps=[('preprocessor',\n",
       "                                        ColumnTransformer(transformers=[('num',\n",
       "                                                                         Pipeline(steps=[('scaler',\n",
       "                                                                                          StandardScaler())]),\n",
       "                                                                         <sklearn.compose._column_transformer.make_column_selector object at 0x000002B9C031D8E0>),\n",
       "                                                                        ('cat',\n",
       "                                                                         Pipeline(steps=[('onehot',\n",
       "                                                                                          OneHotEncoder(drop='if_binary'))]),\n",
       "                                                                         <sklearn.compose._column_transformer.make_column_se...9C031D820>)])),\n",
       "                                       ('decisiontreeclassifier',\n",
       "                                        DecisionTreeClassifier())]),\n",
       "             param_grid={'decisiontreeclassifier__criterion': ['gini',\n",
       "                                                               'entropy'],\n",
       "                         'decisiontreeclassifier__max_depth': [3, 4, 5, 6],\n",
       "                         'decisiontreeclassifier__max_leaf_nodes': [3, 4, 5, 6,\n",
       "                                                                    7, 8, 9, 10,\n",
       "                                                                    11, 12,\n",
       "                                                                    13],\n",
       "                         'decisiontreeclassifier__random_state': [101],\n",
       "                         'decisiontreeclassifier__splitter': ['best',\n",
       "                                                              'random']})"
      ]
     },
     "execution_count": 56,
     "metadata": {},
     "output_type": "execute_result"
    }
   ],
   "source": [
    "grid_search"
   ]
  },
  {
   "cell_type": "code",
   "execution_count": null,
   "id": "f41a0630",
   "metadata": {},
   "outputs": [],
   "source": []
  },
  {
   "cell_type": "code",
   "execution_count": null,
   "id": "1c516372",
   "metadata": {},
   "outputs": [],
   "source": []
  },
  {
   "cell_type": "markdown",
   "id": "68a4a730",
   "metadata": {},
   "source": [
    "## svmc (Pipeline and grid search)"
   ]
  },
  {
   "cell_type": "code",
   "execution_count": 37,
   "id": "7ad6eb6e",
   "metadata": {},
   "outputs": [
    {
     "name": "stdout",
     "output_type": "stream",
     "text": [
      "Best Parameters for SVM: {'svc__C': 0.1, 'svc__gamma': 'scale', 'svc__kernel': 'linear'}\n",
      "Accuracy for SVM: 1.0\n",
      "\n",
      "              precision    recall  f1-score   support\n",
      "\n",
      "      Adelie       1.00      1.00      1.00        24\n",
      "   Chinstrap       1.00      1.00      1.00        12\n",
      "      Gentoo       1.00      1.00      1.00        14\n",
      "\n",
      "    accuracy                           1.00        50\n",
      "   macro avg       1.00      1.00      1.00        50\n",
      "weighted avg       1.00      1.00      1.00        50\n",
      "\n"
     ]
    }
   ],
   "source": [
    "from sklearn.svm import SVC\n",
    "\n",
    "# Combine preprocessor and model in a pipeline for SVM\n",
    "pipeline_svm = Pipeline(steps=[('preprocessor', preprocessor),\n",
    "                               ('svc', SVC(probability=True))])\n",
    "\n",
    "# Define parameters grid for SVM\n",
    "param_grid_svm = {\n",
    "    'svc__C': [0.1, 1, 10, 100],\n",
    "    'svc__kernel': ['linear', 'rbf', 'poly'],\n",
    "    'svc__gamma': ['scale', 'auto']\n",
    "}\n",
    "\n",
    "# Define GridSearchCV with pipeline for SVM\n",
    "cv_model_svm = GridSearchCV(estimator=pipeline_svm, param_grid=param_grid_svm, cv=5)\n",
    "\n",
    "# Fit the model for SVM\n",
    "cv_model_svm.fit(X_train, y_train)\n",
    "\n",
    "# Get the best parameters for SVM\n",
    "best_params_svm = cv_model_svm.best_params_\n",
    "print(\"Best Parameters for SVM:\", best_params_svm)\n",
    "\n",
    "# Get the best model for SVM\n",
    "best_model_svm = cv_model_svm.best_estimator_\n",
    "\n",
    "# Evaluate the best model for SVM\n",
    "accuracy_svm = best_model_svm.score(X_test, y_test)\n",
    "print(\"Accuracy for SVM:\", accuracy_svm)\n",
    "\n",
    "Ypred=cv_model_svm.predict(X_test)\n",
    "print()\n",
    "print(classification_report(y_test,Ypred))"
   ]
  },
  {
   "cell_type": "code",
   "execution_count": 54,
   "id": "9494b1fb",
   "metadata": {},
   "outputs": [
    {
     "data": {
      "text/plain": [
       "Pipeline(steps=[('preprocessor',\n",
       "                 ColumnTransformer(transformers=[('num',\n",
       "                                                  Pipeline(steps=[('scaler',\n",
       "                                                                   StandardScaler())]),\n",
       "                                                  <sklearn.compose._column_transformer.make_column_selector object at 0x000002B9BE579160>),\n",
       "                                                 ('cat',\n",
       "                                                  Pipeline(steps=[('onehot',\n",
       "                                                                   OneHotEncoder(drop='if_binary'))]),\n",
       "                                                  <sklearn.compose._column_transformer.make_column_selector object at 0x000002B9BDAB8D90>)])),\n",
       "                ('svc', SVC(C=0.1, kernel='linear', probability=True))])"
      ]
     },
     "execution_count": 54,
     "metadata": {},
     "output_type": "execute_result"
    }
   ],
   "source": [
    "best_model_svm"
   ]
  },
  {
   "cell_type": "code",
   "execution_count": null,
   "id": "a0a5cb6a",
   "metadata": {},
   "outputs": [],
   "source": []
  },
  {
   "cell_type": "code",
   "execution_count": null,
   "id": "eeef07c9",
   "metadata": {},
   "outputs": [],
   "source": []
  },
  {
   "cell_type": "markdown",
   "id": "5dfbb8ce",
   "metadata": {},
   "source": [
    "## VotingClassifier (Pipeline)\n"
   ]
  },
  {
   "cell_type": "code",
   "execution_count": 52,
   "id": "8fa477a0",
   "metadata": {},
   "outputs": [
    {
     "name": "stdout",
     "output_type": "stream",
     "text": [
      "Accuracy for Voting Classifier: 0.98\n",
      "\n",
      "              precision    recall  f1-score   support\n",
      "\n",
      "      Adelie       0.96      1.00      0.98        24\n",
      "   Chinstrap       1.00      1.00      1.00        12\n",
      "      Gentoo       1.00      0.93      0.96        14\n",
      "\n",
      "    accuracy                           0.98        50\n",
      "   macro avg       0.99      0.98      0.98        50\n",
      "weighted avg       0.98      0.98      0.98        50\n",
      "\n"
     ]
    }
   ],
   "source": [
    "from sklearn.ensemble import VotingClassifier\n",
    "\n",
    "# Define Voting Classifier\n",
    "voting_classifier = VotingClassifier(estimators=[\n",
    "    ('svm', cv_model_svm.best_estimator_),\n",
    "    ('decision_tree', grid_search.best_estimator_)\n",
    "    \n",
    "], voting='hard')  # Change 'hard' to 'soft' for soft voting\n",
    "\n",
    "# Fit the Voting Classifier\n",
    "voting_classifier.fit(X_train, y_train)\n",
    "\n",
    "# Evaluate the Voting Classifier\n",
    "accuracy_voting = voting_classifier.score(X_test, y_test)\n",
    "print(\"Accuracy for Voting Classifier:\", accuracy_voting)\n",
    "Ypred=voting_classifier.predict(X_test)\n",
    "print()\n",
    "print(classification_report(y_test,Ypred))"
   ]
  },
  {
   "cell_type": "code",
   "execution_count": 53,
   "id": "332cc152",
   "metadata": {},
   "outputs": [
    {
     "data": {
      "text/plain": [
       "[Pipeline(steps=[('preprocessor',\n",
       "                  ColumnTransformer(transformers=[('num',\n",
       "                                                   Pipeline(steps=[('scaler',\n",
       "                                                                    StandardScaler())]),\n",
       "                                                   <sklearn.compose._column_transformer.make_column_selector object at 0x000002B9C0281DF0>),\n",
       "                                                  ('cat',\n",
       "                                                   Pipeline(steps=[('onehot',\n",
       "                                                                    OneHotEncoder(drop='if_binary'))]),\n",
       "                                                   <sklearn.compose._column_transformer.make_column_selector object at 0x000002B9C0281EB0>)])),\n",
       "                 ('svc', SVC(C=0.1, kernel='linear', probability=True))]),\n",
       " Pipeline(steps=[('preprocessor',\n",
       "                  ColumnTransformer(transformers=[('num',\n",
       "                                                   Pipeline(steps=[('scaler',\n",
       "                                                                    StandardScaler())]),\n",
       "                                                   <sklearn.compose._column_transformer.make_column_selector object at 0x000002B9C04B9E80>),\n",
       "                                                  ('cat',\n",
       "                                                   Pipeline(steps=[('onehot',\n",
       "                                                                    OneHotEncoder(drop='if_binary'))]),\n",
       "                                                   <sklearn.compose._column_transformer.make_column_selector object at 0x000002B9C04B9CA0>)])),\n",
       "                 ('decisiontreeclassifier',\n",
       "                  DecisionTreeClassifier(criterion='entropy', max_depth=6,\n",
       "                                         max_leaf_nodes=13, random_state=101,\n",
       "                                         splitter='random'))])]"
      ]
     },
     "execution_count": 53,
     "metadata": {},
     "output_type": "execute_result"
    }
   ],
   "source": [
    "voting_classifier.estimators_"
   ]
  },
  {
   "cell_type": "code",
   "execution_count": null,
   "id": "e8011da6",
   "metadata": {},
   "outputs": [],
   "source": []
  }
 ],
 "metadata": {
  "kernelspec": {
   "display_name": "Python 3 (ipykernel)",
   "language": "python",
   "name": "python3"
  },
  "language_info": {
   "codemirror_mode": {
    "name": "ipython",
    "version": 3
   },
   "file_extension": ".py",
   "mimetype": "text/x-python",
   "name": "python",
   "nbconvert_exporter": "python",
   "pygments_lexer": "ipython3",
   "version": "3.9.12"
  }
 },
 "nbformat": 4,
 "nbformat_minor": 5
}
